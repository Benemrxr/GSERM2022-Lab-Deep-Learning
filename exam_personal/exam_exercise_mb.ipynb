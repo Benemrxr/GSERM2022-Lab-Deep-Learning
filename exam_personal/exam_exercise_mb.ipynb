{
  "cells": [
    {
      "cell_type": "markdown",
      "metadata": {
        "id": "view-in-github",
        "colab_type": "text"
      },
      "source": [
        "<a href=\"https://colab.research.google.com/github/Benemrxr/GSERM2022-Lab-Deep-Learning/blob/main/exam_personal/exam_exercise_mb.ipynb\" target=\"_parent\"><img src=\"https://colab.research.google.com/assets/colab-badge.svg\" alt=\"Open In Colab\"/></a>"
      ]
    },
    {
      "cell_type": "markdown",
      "metadata": {
        "id": "peX_6uD-ifG1"
      },
      "source": [
        "<img align=\"center\" style=\"max-width: 1000px\" src=\"https://github.com/Benemrxr/GSERM2022-Lab-Deep-Learning/blob/main/exam_personal/banner.png?raw=1\">"
      ]
    },
    {
      "cell_type": "markdown",
      "metadata": {
        "id": "B0cP5Z789_rr"
      },
      "source": [
        "<img align=\"right\" style=\"max-width: 200px; height: auto\" src=\"https://github.com/Benemrxr/GSERM2022-Lab-Deep-Learning/blob/main/exam_personal/hsg_logo.png?raw=1\">\n",
        "\n",
        "##  Exam - Fashion MNIST Convolutional Neural Networks (CNNs)\n",
        "\n",
        "GSERM'22 course \"Deep Learning: Fundamentals and Applications\", University of St. Gallen"
      ]
    },
    {
      "cell_type": "markdown",
      "metadata": {
        "id": "Rno8GqfC9_rz"
      },
      "source": [
        "This week we have learned how to enhance vanilla Artificial Neural Networks (ANNs) using `PyTorch` to classify even more complex images. For this purpose, we used a special type of deep neural network referred to **Convolutional Neural Networks (CNNs)**. In our exam exercise, we aim to leverage that knowledge by applying it to the known Fashion-MNIST dataset."
      ]
    },
    {
      "cell_type": "markdown",
      "metadata": {
        "id": "r93JK2DH9_r0"
      },
      "source": [
        "As always, pls. don't hesitate to post your potential questions on CANVAS (StudyNet) forum (https://learning.unisg.ch), or send us an email (using the course email: aiml-teaching.ics@unisg.ch)."
      ]
    },
    {
      "cell_type": "markdown",
      "metadata": {
        "id": "eW6dySzs9_r1"
      },
      "source": [
        "## 1. Assignment Objectives:"
      ]
    },
    {
      "cell_type": "markdown",
      "metadata": {
        "id": "2uzc9Xr69_r1"
      },
      "source": [
        "As discussed in our last session, these are the tasks for the exam exercise:\n",
        "\n",
        "> 1. Load the Fashion **MNIST dataset**. \n",
        "> 2. Implement a **CNN** architecture able to work with this data.\n",
        "> 3. **Train** the model, evaluate its **performance** and visualize the results.\n",
        "> 4. Try to **improve** the performance of the initial model.\n",
        "> 5. **Document** the results in the form of PowerPoint slides."
      ]
    },
    {
      "cell_type": "markdown",
      "metadata": {
        "id": "S5usE-qK4bmz"
      },
      "source": [
        "But before we do so let's start (as always) with a motivational video by NVIDIA. Happy coding! "
      ]
    },
    {
      "cell_type": "code",
      "execution_count": null,
      "metadata": {
        "id": "0Y5wBOuj4bm0"
      },
      "outputs": [],
      "source": [
        "from IPython.display import YouTubeVideo\n",
        "# Official Intro | GTC 2020 | I AM AI\"\n",
        "# YouTubeVideo('e2_hsjpTi4w', width=800, height=500)"
      ]
    },
    {
      "cell_type": "markdown",
      "metadata": {
        "id": "iPRKkkig9_r2"
      },
      "source": [
        "## 2. Setup of the Jupyter Notebook Environment"
      ]
    },
    {
      "cell_type": "markdown",
      "metadata": {
        "id": "7mZL4i6W9_r2"
      },
      "source": [
        "Similar to the previous labs, we need to import a couple of Python libraries that allow for data analysis and data visualization. We will mostly use the `PyTorch`, `Numpy`, `Sklearn`, `Matplotlib`, `Seaborn` and a few utility libraries throughout this lab:"
      ]
    },
    {
      "cell_type": "code",
      "execution_count": 1,
      "metadata": {
        "id": "A9cwWtab9_r2"
      },
      "outputs": [],
      "source": [
        "# import standard python libraries\n",
        "import os, urllib, io\n",
        "from datetime import datetime\n",
        "import numpy as np"
      ]
    },
    {
      "cell_type": "markdown",
      "metadata": {
        "id": "FrB_51t89_r3"
      },
      "source": [
        "Import Python machine / deep learning libraries:"
      ]
    },
    {
      "cell_type": "code",
      "execution_count": 2,
      "metadata": {
        "id": "ZH6LhB_q9_r3"
      },
      "outputs": [],
      "source": [
        "# import the PyTorch deep learning library\n",
        "import torch, torchvision\n",
        "import torch.nn.functional as F\n",
        "from torch import nn, optim\n",
        "from torch.autograd import Variable"
      ]
    },
    {
      "cell_type": "markdown",
      "metadata": {
        "id": "sfgYux7K9_r3"
      },
      "source": [
        "Import the sklearn classification metrics:"
      ]
    },
    {
      "cell_type": "code",
      "execution_count": 3,
      "metadata": {
        "id": "cFptYrnr9_r4"
      },
      "outputs": [],
      "source": [
        "# import sklearn classification evaluation library\n",
        "from sklearn import metrics\n",
        "from sklearn.metrics import classification_report, confusion_matrix"
      ]
    },
    {
      "cell_type": "markdown",
      "metadata": {
        "id": "WJJ5kfaf9_r4"
      },
      "source": [
        "Import Python plotting libraries:"
      ]
    },
    {
      "cell_type": "code",
      "execution_count": 4,
      "metadata": {
        "id": "usAgsocK9_r4"
      },
      "outputs": [],
      "source": [
        "# import matplotlib, seaborn, and PIL data visualization libary\n",
        "import matplotlib.pyplot as plt\n",
        "import seaborn as sns\n",
        "from PIL import Image"
      ]
    },
    {
      "cell_type": "markdown",
      "metadata": {
        "id": "kZft6q1B9_r5"
      },
      "source": [
        "Enable notebook matplotlib inline plotting:"
      ]
    },
    {
      "cell_type": "code",
      "execution_count": 5,
      "metadata": {
        "id": "BXnX3zt_9_r5"
      },
      "outputs": [],
      "source": [
        "%matplotlib inline"
      ]
    },
    {
      "cell_type": "markdown",
      "metadata": {
        "id": "dn2cf5SqJ2m9"
      },
      "source": [
        "Import Google's GDrive connector and mount your GDrive directories:"
      ]
    },
    {
      "cell_type": "code",
      "execution_count": 6,
      "metadata": {
        "id": "m2rj2ThhJ3sA",
        "colab": {
          "base_uri": "https://localhost:8080/"
        },
        "outputId": "e46f7823-27f5-4a96-b219-739baf370cba"
      },
      "outputs": [
        {
          "output_type": "stream",
          "name": "stdout",
          "text": [
            "Mounted at /content/drive\n"
          ]
        }
      ],
      "source": [
        "# import the Google Colab GDrive connector\n",
        "from google.colab import drive\n",
        "\n",
        "# mount GDrive inside the Colab notebook\n",
        "drive.mount('/content/drive')"
      ]
    },
    {
      "cell_type": "markdown",
      "metadata": {
        "id": "-58e-iazJ8Aq"
      },
      "source": [
        "Create a structure of Colab Notebook sub-directories inside of GDrive to store (1) the data as well as (2) the trained neural network models:"
      ]
    },
    {
      "cell_type": "code",
      "execution_count": 7,
      "metadata": {
        "id": "LtB6DCWjJ-gD"
      },
      "outputs": [],
      "source": [
        "# create Colab Notebooks directory\n",
        "notebook_directory = '/content/drive/MyDrive/Colab Notebooks'\n",
        "if not os.path.exists(notebook_directory): os.makedirs(notebook_directory)\n",
        "\n",
        " # create data sub-directory inside the Colab Notebooks directory\n",
        "data_directory = '/content/drive/MyDrive/Colab Notebooks/data'\n",
        "if not os.path.exists(data_directory): os.makedirs(data_directory)\n",
        "\n",
        " # create models sub-directory inside the Colab Notebooks directory\n",
        "models_directory = '/content/drive/MyDrive/Colab Notebooks/models'\n",
        "if not os.path.exists(models_directory): os.makedirs(models_directory)"
      ]
    },
    {
      "cell_type": "markdown",
      "metadata": {
        "id": "wcYgp4Gl9_r6"
      },
      "source": [
        "Set a random `seed` value to obtain reproducable results:"
      ]
    },
    {
      "cell_type": "code",
      "execution_count": 8,
      "metadata": {
        "id": "vdbqEjHb9_r7",
        "colab": {
          "base_uri": "https://localhost:8080/"
        },
        "outputId": "fb80bc9e-f0af-4a2e-af9e-47b74ebf562e"
      },
      "outputs": [
        {
          "output_type": "execute_result",
          "data": {
            "text/plain": [
              "<torch._C.Generator at 0x7f4e09530a30>"
            ]
          },
          "metadata": {},
          "execution_count": 8
        }
      ],
      "source": [
        "# init deterministic seed\n",
        "seed_value = 1234\n",
        "np.random.seed(seed_value) # set numpy seed\n",
        "torch.manual_seed(seed_value) # set pytorch seed CPU"
      ]
    },
    {
      "cell_type": "markdown",
      "metadata": {
        "id": "zpKQNDr09_r7"
      },
      "source": [
        "Google Colab provides the use of free GPUs for running notebooks. However, if you just execute this notebook as is, it will use your device's CPU. To run the lab on a GPU, got to `Runtime` > `Change runtime type` and set the Runtime type to `GPU` in the drop-down. Running this lab on a CPU is fine, but you will find that GPU computing is faster. *CUDA* indicates that the lab is being run on GPU.\n",
        "\n",
        "Enable GPU computing by setting the `device` flag and init a `CUDA` seed:"
      ]
    },
    {
      "cell_type": "code",
      "execution_count": 9,
      "metadata": {
        "id": "IAFg7INc9_r7",
        "colab": {
          "base_uri": "https://localhost:8080/"
        },
        "outputId": "a258e94a-9b94-4ac3-d442-d31fed1cb7c5"
      },
      "outputs": [
        {
          "output_type": "stream",
          "name": "stdout",
          "text": [
            "[LOG] notebook with cuda computation enabled\n"
          ]
        }
      ],
      "source": [
        "# set cpu or gpu enabled device\n",
        "device = torch.device('cuda' if torch.cuda.is_available() else 'cpu').type\n",
        "\n",
        "# init deterministic GPU seed\n",
        "torch.cuda.manual_seed(seed_value)\n",
        "\n",
        "# log type of device enabled\n",
        "print('[LOG] notebook with {} computation enabled'.format(str(device)))"
      ]
    },
    {
      "cell_type": "markdown",
      "metadata": {
        "id": "Y-7Ve4-_9_r7"
      },
      "source": [
        "Let's determine if we have access to a GPU provided by e.g. Google's COLab environment:"
      ]
    },
    {
      "cell_type": "code",
      "execution_count": 10,
      "metadata": {
        "id": "VCpTB9x59_r8",
        "colab": {
          "base_uri": "https://localhost:8080/"
        },
        "outputId": "f7d0b5b3-0590-493a-ed81-43de25e445b5"
      },
      "outputs": [
        {
          "output_type": "stream",
          "name": "stdout",
          "text": [
            "Fri Jul 15 08:16:07 2022       \n",
            "+-----------------------------------------------------------------------------+\n",
            "| NVIDIA-SMI 460.32.03    Driver Version: 460.32.03    CUDA Version: 11.2     |\n",
            "|-------------------------------+----------------------+----------------------+\n",
            "| GPU  Name        Persistence-M| Bus-Id        Disp.A | Volatile Uncorr. ECC |\n",
            "| Fan  Temp  Perf  Pwr:Usage/Cap|         Memory-Usage | GPU-Util  Compute M. |\n",
            "|                               |                      |               MIG M. |\n",
            "|===============================+======================+======================|\n",
            "|   0  Tesla T4            Off  | 00000000:00:04.0 Off |                    0 |\n",
            "| N/A   40C    P8     9W /  70W |      3MiB / 15109MiB |      0%      Default |\n",
            "|                               |                      |                  N/A |\n",
            "+-------------------------------+----------------------+----------------------+\n",
            "                                                                               \n",
            "+-----------------------------------------------------------------------------+\n",
            "| Processes:                                                                  |\n",
            "|  GPU   GI   CI        PID   Type   Process name                  GPU Memory |\n",
            "|        ID   ID                                                   Usage      |\n",
            "|=============================================================================|\n",
            "|  No running processes found                                                 |\n",
            "+-----------------------------------------------------------------------------+\n"
          ]
        }
      ],
      "source": [
        "!nvidia-smi"
      ]
    },
    {
      "cell_type": "markdown",
      "metadata": {
        "id": "3mZNLbFQifHF"
      },
      "source": [
        "## 3. Exam Exercise: Convolutional Neural Networks (CNNs)"
      ]
    },
    {
      "cell_type": "markdown",
      "metadata": {
        "id": "dUd6ScWXmkel"
      },
      "source": [
        "The **Fashion-MNIST database** is a large database of Zalando articles that is commonly used for training various image processing systems. The database is widely used for training and testing in the field of machine learning. Source: https://www.kaggle.com/c/insar-fashion-mnist-challenge"
      ]
    },
    {
      "cell_type": "markdown",
      "metadata": {
        "id": "XH1CSkRV9_r8"
      },
      "source": [
        "### 3.1 Fashion-MNIST Dataset Download and Data Assessment"
      ]
    },
    {
      "cell_type": "code",
      "execution_count": 11,
      "metadata": {
        "id": "Bd4O6PSzmBk-",
        "colab": {
          "base_uri": "https://localhost:8080/",
          "height": 317
        },
        "outputId": "d5f79c4c-3bca-440e-a36a-a72c31d5bac7"
      },
      "outputs": [
        {
          "output_type": "stream",
          "name": "stdout",
          "text": [
            "Correct number of training data images (60000)\n",
            "Correct number of evaluation data images (10000)\n"
          ]
        },
        {
          "output_type": "display_data",
          "data": {
            "text/plain": [
              "<Figure size 432x288 with 1 Axes>"
            ],
            "image/png": "[encoded data removed]"
          },
          "metadata": {
            "needs_background": "light"
          }
        }
      ],
      "source": [
        "# To solve this task you might want to have a look at the code of exercise 4.\n",
        "\n",
        "#### Step 1. define \"train\" path ###############################################\n",
        "\n",
        "train_path = data_directory + '/train_fmnist'\n",
        "\n",
        "\n",
        "\n",
        "#### Step 2. define transformations and download the \"train\" dataset ############\n",
        "\n",
        "# define pytorch transformation into tensor format\n",
        "transf = torchvision.transforms.Compose([torchvision.transforms.ToTensor()])\n",
        "\n",
        "# download and transform training images\n",
        "fashion_mnist_train_data = torchvision.datasets.FashionMNIST(root=train_path, \n",
        "                                                             train=True, \n",
        "                                                             transform=transf, \n",
        "                                                             download=True)\n",
        "\n",
        "# determine the number of training data images / verify we have all 60'000 images\n",
        "if len(fashion_mnist_train_data) == 60000:\n",
        "  print('Correct number of training data images ({})'.format(len(fashion_mnist_train_data)))\n",
        "else: \n",
        "  print('Incorrect number of training data images ({})'.format(len(fashion_mnist_train_data)))\n",
        "\n",
        "\n",
        "\n",
        "#### Step 3. setup/define labels ################################################\n",
        "\n",
        "# select and set a (random) image id\n",
        "image_id = 3000\n",
        "# retrieve image exhibiting the image id\n",
        "fashion_mnist_train_data[image_id]\n",
        "fashion_mnist_train_image, fashion_mnist_train_label = fashion_mnist_train_data[image_id]\n",
        "fashion_mnist_train_label\n",
        "\n",
        "# Add label descriptions (See https://github.com/zalandoresearch/fashion-mnist)\n",
        "fashion_classes = {0: 'T-shirt/top',\n",
        "                    1: 'Trouser',\n",
        "                    2: 'Pullover',\n",
        "                    3: 'Dress',\n",
        "                    4: 'Coat',\n",
        "                    5: 'Sandal',\n",
        "                    6: 'Shirt',\n",
        "                    7: 'Sneaker',\n",
        "                    8: 'Bag',\n",
        "                    9: 'Ankle boot'}\n",
        "\n",
        "fashion_classes[fashion_mnist_train_label]\n",
        "\n",
        "# define tensor to image transformation\n",
        "trans = torchvision.transforms.ToPILImage()\n",
        "\n",
        "# set image plot title \n",
        "plt.title('Example: {}, Label: {}'.format(str(image_id), fashion_classes[fashion_mnist_train_label]))\n",
        "\n",
        "# plot mnist handwritten digit sample\n",
        "plt.imshow(trans(fashion_mnist_train_image), cmap='gray')\n",
        "\n",
        "\n",
        "\n",
        "#### Step 4. define \"eval\" path ################################################\n",
        "\n",
        "eval_path = data_directory + '/eval_fmnist'\n",
        "\n",
        "\n",
        "\n",
        "#### Step 5. define transformation and download the \"eval\" dataset #############\n",
        "\n",
        "# define pytorch transformation into tensor format\n",
        "transf = torchvision.transforms.Compose([torchvision.transforms.ToTensor()])\n",
        "\n",
        "# download and transform evaluation images\n",
        "fashion_mnist_eval_data = torchvision.datasets.FashionMNIST(root=eval_path, \n",
        "                                                            train=False, \n",
        "                                                            transform=transf, \n",
        "                                                            download=True)\n",
        "\n",
        "# determine the number of evaluation data images / verify we have all 10'000 images\n",
        "if len(fashion_mnist_eval_data) == 10000:\n",
        "  print('Correct number of evaluation data images ({})'.format(len(fashion_mnist_eval_data)))\n",
        "else: \n",
        "  print('Incorrect number of evaluation data images ({})'.format(len(fashion_mnist_eval_data)))"
      ]
    },
    {
      "cell_type": "markdown",
      "metadata": {
        "id": "B9Xivz3j9_sD"
      },
      "source": [
        "### 3.2 Convolutional Neural Network (CNN) Model Training and Evaluation"
      ]
    },
    {
      "cell_type": "markdown",
      "metadata": {
        "id": "nswYOXvk9_r0"
      },
      "source": [
        "<img align=\"center\" style=\"max-width: 900px\" src=\"https://github.com/HSG-AIML/LabAI-Coding/blob/main/resources/lab_05/classification.png?raw=1\">"
      ]
    },
    {
      "cell_type": "markdown",
      "metadata": {
        "id": "Tgqmaa129_sZ"
      },
      "source": [
        "Please note this image of a CNN was defined for the CIFAR-10 dataset. Your Fashion-MNIST images have a different size.\n"
      ]
    },
    {
      "cell_type": "markdown",
      "metadata": {
        "id": "Tn2Wu-JaoXyJ"
      },
      "source": [
        "**1. Implement and train your \"baseline\" CNN.**"
      ]
    },
    {
      "cell_type": "code",
      "execution_count": 12,
      "metadata": {
        "id": "Kx4C87LF9_sZ",
        "colab": {
          "base_uri": "https://localhost:8080/"
        },
        "outputId": "1b953353-edb1-4ae7-87da-ff19b2a0cad9"
      },
      "outputs": [
        {
          "output_type": "stream",
          "name": "stdout",
          "text": [
            "[LOG] ExamNet architecture:\n",
            "\n",
            "ExamNet(\n",
            "  (conv1): Conv2d(1, 6, kernel_size=(5, 5), stride=(1, 1))\n",
            "  (pool1): MaxPool2d(kernel_size=2, stride=2, padding=0, dilation=1, ceil_mode=False)\n",
            "  (conv2): Conv2d(6, 12, kernel_size=(5, 5), stride=(1, 1))\n",
            "  (pool2): MaxPool2d(kernel_size=2, stride=2, padding=0, dilation=1, ceil_mode=False)\n",
            "  (linear1): Linear(in_features=192, out_features=120, bias=True)\n",
            "  (relu1): ReLU(inplace=True)\n",
            "  (linear2): Linear(in_features=120, out_features=84, bias=True)\n",
            "  (relu2): ReLU(inplace=True)\n",
            "  (linear3): Linear(in_features=84, out_features=10, bias=True)\n",
            "  (logsoftmax): LogSoftmax(dim=1)\n",
            ")\n",
            "\n",
            "[LOG] Number of to be trained ExamNet model parameters: 36142.\n"
          ]
        }
      ],
      "source": [
        "# To solve this task you might want to have a look at the code of exercise 5. \n",
        "# Please note: the Fashion MNIST dataset only encompasses two dimensions per image (1 channel). \n",
        "\n",
        "#### Step 1. define and init neural network architecture #############################################################\n",
        "\n",
        "# (for this first attempt I closely follow our Cifar10Net structure of the layers, though with adjusted numbers from my ExamNet architecture)\n",
        "\n",
        "# implement the ExamNet network architecture \n",
        "class ExamNet(nn.Module):\n",
        "    \n",
        "    # define the class constructor\n",
        "    def __init__(self):\n",
        "        \n",
        "        # call super class constructor\n",
        "        super(ExamNet, self).__init__()\n",
        "        \n",
        "        # specify convolution layer 1\n",
        "        self.conv1 = nn.Conv2d(in_channels=1, out_channels=6, kernel_size=5, stride=1, padding=0)\n",
        "        \n",
        "        # define max-pooling layer 1\n",
        "        self.pool1 = nn.MaxPool2d(kernel_size=2, stride=2)\n",
        "        \n",
        "        # specify convolution layer 2\n",
        "        self.conv2 = nn.Conv2d(in_channels=6, out_channels=12, kernel_size=5, stride=1, padding=0)\n",
        "        \n",
        "        # define max-pooling layer 2\n",
        "        self.pool2 = nn.MaxPool2d(kernel_size=2, stride=2)\n",
        "        \n",
        "        # specify fc layer 1 - in 12 * 4 * 4, out 120\n",
        "        self.linear1 = nn.Linear(12 * 4 * 4, 120, bias=True) # the linearity W*x+b\n",
        "        self.relu1 = nn.ReLU(inplace=True) # the non-linearity\n",
        "        \n",
        "        # specify fc layer 2 - in 120, out 84\n",
        "        self.linear2 = nn.Linear(120, 84, bias=True) # the linearity W*x+b\n",
        "        self.relu2 = nn.ReLU(inplace=True) # the non-linarity\n",
        "        \n",
        "        # specify fc layer 3 - in 84, out 10\n",
        "        self.linear3 = nn.Linear(84, 10) # the linearity W*x+b\n",
        "        \n",
        "        # add a softmax to the last layer\n",
        "        self.logsoftmax = nn.LogSoftmax(dim=1) # the softmax\n",
        "        \n",
        "    # define network forward pass\n",
        "    def forward(self, images):\n",
        "        \n",
        "        # high-level feature learning via convolutional layers\n",
        "        \n",
        "        # define conv layer 1 forward pass\n",
        "        x = self.pool1(self.relu1(self.conv1(images)))\n",
        "        \n",
        "        # define conv layer 2 forward pass\n",
        "        x = self.pool2(self.relu2(self.conv2(x)))\n",
        "        \n",
        "        # feature flattening\n",
        "        \n",
        "        # reshape image pixels\n",
        "        x = x.view(-1, 12 * 4 * 4)\n",
        "        \n",
        "        # combination of feature learning via non-linear layers\n",
        "        \n",
        "        # define fc layer 1 forward pass\n",
        "        x = self.relu1(self.linear1(x))\n",
        "        \n",
        "        # define fc layer 2 forward pass\n",
        "        x = self.relu2(self.linear2(x))\n",
        "        \n",
        "        # define layer 3 forward pass\n",
        "        x = self.logsoftmax(self.linear3(x))\n",
        "        \n",
        "        # return forward pass result\n",
        "        return x\n",
        "\n",
        "model = ExamNet()\n",
        "model = model.to(device)\n",
        "\n",
        "# print the initialized architectures\n",
        "print('[LOG] ExamNet architecture:\\n\\n{}\\n'.format(model))\n",
        "\n",
        "# init the number of model parameters\n",
        "num_params = 0\n",
        "# iterate over the distinct parameters\n",
        "for param in model.parameters():\n",
        "    # collect number of parameters\n",
        "    num_params += param.numel()   \n",
        "# print the number of model paramters\n",
        "print('[LOG] Number of to be trained ExamNet model parameters: {}.'.format(num_params))\n",
        "\n"
      ]
    },
    {
      "cell_type": "code",
      "source": [
        "#### Step 2. define loss, training hyperparameters and dataloader ####################################################\n",
        "\n",
        "# define the optimization criterion / loss function (Negative Log-Likelihood)\n",
        "nll_loss = nn.NLLLoss()\n",
        "\n",
        "# push to gpu\n",
        "nll_loss = nll_loss.to(device)\n",
        "\n",
        "# define learning rate (0.001) and optimization strategy (Stochastic Gradient Descent)\n",
        "learning_rate = 0.001\n",
        "optimizer = optim.SGD(params=model.parameters(), lr=learning_rate)\n",
        "\n",
        "# specify the training parameters\n",
        "num_epochs = 75 # number of training epochs\n",
        "mini_batch_size = 128 # size of the mini-batches\n",
        "\n",
        "# PyTorch data loader that feeds the image tensors to our neural network:\n",
        "fashion_mnist_train_dataloader = torch.utils.data.DataLoader(fashion_mnist_train_data, batch_size=mini_batch_size, shuffle=True)"
      ],
      "metadata": {
        "id": "RkNY47ZvWBLE"
      },
      "execution_count": 13,
      "outputs": []
    },
    {
      "cell_type": "code",
      "source": [
        "#### Step 3. run model training ######################################################################################\n",
        "\n",
        "# init collection of training epoch losses\n",
        "train_epoch_losses = []\n",
        "\n",
        "# set the model in training mode\n",
        "model.train()\n",
        "\n",
        "# train the ExamNet model\n",
        "for epoch in range(num_epochs):\n",
        "    \n",
        "    # init collection of mini-batch losses\n",
        "    train_mini_batch_losses = []\n",
        "    \n",
        "    # iterate over all-mini batches\n",
        "    for i, (images, labels) in enumerate(fashion_mnist_train_dataloader):\n",
        "        \n",
        "        # push mini-batch data to computation device\n",
        "        images = images.to(device)\n",
        "        labels = labels.to(device)\n",
        "\n",
        "        # run forward pass through the network\n",
        "        output = model(images)\n",
        "        \n",
        "        # reset graph gradients\n",
        "        model.zero_grad()\n",
        "        \n",
        "        # determine classification loss\n",
        "        loss = nll_loss(output, labels)\n",
        "        \n",
        "        # run backward pass\n",
        "        loss.backward()\n",
        "        \n",
        "        # update network paramaters\n",
        "        optimizer.step()\n",
        "        \n",
        "        # collect mini-batch reconstruction loss\n",
        "        train_mini_batch_losses.append(loss.data.item())\n",
        "\n",
        "        # wandb (warning: slows down the training)\n",
        "        # wandb.log({\"loss\": loss})\n",
        "\n",
        "        # Optional\n",
        "        # wandb.watch(model)\n",
        "\n",
        "    # determine mean min-batch loss of epoch\n",
        "    train_epoch_loss = np.mean(train_mini_batch_losses)\n",
        "    \n",
        "    # print epoch loss\n",
        "    now = datetime.utcnow().strftime(\"%Y%m%d-%H:%M:%S\")\n",
        "    print('[LOG {}] epoch: {} train-loss: {}'.format(str(now), str(epoch), str(train_epoch_loss)))\n",
        "    \n",
        "    # set filename of actual model\n",
        "    model_name = 'exam_model_epoch_{}.pth'.format(str(epoch))\n",
        "\n",
        "    # save current model to GDrive models directory\n",
        "    torch.save(model.state_dict(), os.path.join(models_directory, model_name))\n",
        "    \n",
        "    # determine mean min-batch loss of epoch\n",
        "    train_epoch_losses.append(train_epoch_loss)\n",
        "\n",
        "\n",
        "# [LOG 20220714-08:51:25] epoch: 0 train-loss: 2.3038224919772605\n",
        "# [LOG 20220714-08:52:28] epoch: 10 train-loss: 2.296164871533034\n",
        "# [LOG 20220714-08:56:26] epoch: 49 train-loss: 0.6974649136381617\n",
        "# [LOG 20220714-08:58:45] epoch: 74 train-loss: 0.6072679258612935\n",
        "\n",
        "# I will use the model with 50 training epochs, saved in my GitHub"
      ],
      "metadata": {
        "colab": {
          "base_uri": "https://localhost:8080/"
        },
        "id": "CtS7vSSrgRCq",
        "outputId": "d4000359-1c6e-454b-8d4c-3da654211365"
      },
      "execution_count": 14,
      "outputs": [
        {
          "output_type": "stream",
          "name": "stdout",
          "text": [
            "[LOG 20220715-08:18:49] epoch: 0 train-loss: 2.3038224919772605\n",
            "[LOG 20220715-08:18:56] epoch: 1 train-loss: 2.3032176138749763\n",
            "[LOG 20220715-08:19:03] epoch: 2 train-loss: 2.3026034903170456\n",
            "[LOG 20220715-08:19:09] epoch: 3 train-loss: 2.301925099480635\n",
            "[LOG 20220715-08:19:14] epoch: 4 train-loss: 2.3011869108244807\n",
            "[LOG 20220715-08:19:21] epoch: 5 train-loss: 2.3004295099010346\n",
            "[LOG 20220715-08:19:27] epoch: 6 train-loss: 2.299647618458469\n",
            "[LOG 20220715-08:19:32] epoch: 7 train-loss: 2.2988686078647054\n",
            "[LOG 20220715-08:19:38] epoch: 8 train-loss: 2.2980490107017792\n",
            "[LOG 20220715-08:19:44] epoch: 9 train-loss: 2.2971545104533115\n",
            "[LOG 20220715-08:19:50] epoch: 10 train-loss: 2.2961649299938798\n",
            "[LOG 20220715-08:19:56] epoch: 11 train-loss: 2.295034368917632\n",
            "[LOG 20220715-08:20:01] epoch: 12 train-loss: 2.2937145294156918\n",
            "[LOG 20220715-08:20:07] epoch: 13 train-loss: 2.2920780354725525\n",
            "[LOG 20220715-08:20:13] epoch: 14 train-loss: 2.2900705205352065\n",
            "[LOG 20220715-08:20:19] epoch: 15 train-loss: 2.2875369794841514\n",
            "[LOG 20220715-08:20:24] epoch: 16 train-loss: 2.284183539815549\n",
            "[LOG 20220715-08:20:30] epoch: 17 train-loss: 2.279677639637929\n",
            "[LOG 20220715-08:20:36] epoch: 18 train-loss: 2.2733686082144535\n",
            "[LOG 20220715-08:20:42] epoch: 19 train-loss: 2.2642026328837184\n",
            "[LOG 20220715-08:20:47] epoch: 20 train-loss: 2.2498657759318728\n",
            "[LOG 20220715-08:20:53] epoch: 21 train-loss: 2.224976680426201\n",
            "[LOG 20220715-08:20:58] epoch: 22 train-loss: 2.179025023730833\n",
            "[LOG 20220715-08:21:04] epoch: 23 train-loss: 2.0882152623967576\n",
            "[LOG 20220715-08:21:11] epoch: 24 train-loss: 1.893559627441455\n",
            "[LOG 20220715-08:21:17] epoch: 25 train-loss: 1.5693835680927042\n",
            "[LOG 20220715-08:21:22] epoch: 26 train-loss: 1.276803393607963\n",
            "[LOG 20220715-08:21:28] epoch: 27 train-loss: 1.1059638676104515\n",
            "[LOG 20220715-08:21:34] epoch: 28 train-loss: 1.0173360513471592\n",
            "[LOG 20220715-08:21:39] epoch: 29 train-loss: 0.9665252701051708\n",
            "[LOG 20220715-08:21:45] epoch: 30 train-loss: 0.9339966479140812\n",
            "[LOG 20220715-08:21:51] epoch: 31 train-loss: 0.9096231212748139\n",
            "[LOG 20220715-08:21:56] epoch: 32 train-loss: 0.8888216084762931\n",
            "[LOG 20220715-08:22:02] epoch: 33 train-loss: 0.8711741036697745\n",
            "[LOG 20220715-08:22:08] epoch: 34 train-loss: 0.8550590576647695\n",
            "[LOG 20220715-08:22:13] epoch: 35 train-loss: 0.8396143205384455\n",
            "[LOG 20220715-08:22:19] epoch: 36 train-loss: 0.824557429691876\n",
            "[LOG 20220715-08:22:25] epoch: 37 train-loss: 0.8098259125945411\n",
            "[LOG 20220715-08:22:30] epoch: 38 train-loss: 0.7963078349892264\n",
            "[LOG 20220715-08:22:36] epoch: 39 train-loss: 0.7835306611650789\n",
            "[LOG 20220715-08:22:42] epoch: 40 train-loss: 0.7707519256738203\n",
            "[LOG 20220715-08:22:47] epoch: 41 train-loss: 0.759211229235887\n",
            "[LOG 20220715-08:22:53] epoch: 42 train-loss: 0.749136146960228\n",
            "[LOG 20220715-08:22:59] epoch: 43 train-loss: 0.739599337201637\n",
            "[LOG 20220715-08:23:04] epoch: 44 train-loss: 0.7303328925231373\n",
            "[LOG 20220715-08:23:10] epoch: 45 train-loss: 0.722108341610508\n",
            "[LOG 20220715-08:23:17] epoch: 46 train-loss: 0.7151309373155077\n",
            "[LOG 20220715-08:23:22] epoch: 47 train-loss: 0.7077926590498577\n",
            "[LOG 20220715-08:23:28] epoch: 48 train-loss: 0.7030750547390757\n",
            "[LOG 20220715-08:23:34] epoch: 49 train-loss: 0.6974522677947209\n",
            "[LOG 20220715-08:23:39] epoch: 50 train-loss: 0.6922343973157756\n",
            "[LOG 20220715-08:23:45] epoch: 51 train-loss: 0.687762326840907\n",
            "[LOG 20220715-08:23:51] epoch: 52 train-loss: 0.6827521533854226\n",
            "[LOG 20220715-08:23:57] epoch: 53 train-loss: 0.6784949185751649\n",
            "[LOG 20220715-08:24:03] epoch: 54 train-loss: 0.6753422688446573\n",
            "[LOG 20220715-08:24:09] epoch: 55 train-loss: 0.6717997480557163\n",
            "[LOG 20220715-08:24:14] epoch: 56 train-loss: 0.6670671899689794\n",
            "[LOG 20220715-08:24:20] epoch: 57 train-loss: 0.6641670131861274\n",
            "[LOG 20220715-08:24:26] epoch: 58 train-loss: 0.6592873267527583\n",
            "[LOG 20220715-08:24:31] epoch: 59 train-loss: 0.65576404873242\n",
            "[LOG 20220715-08:24:37] epoch: 60 train-loss: 0.652772271874617\n",
            "[LOG 20220715-08:24:43] epoch: 61 train-loss: 0.648713540484402\n",
            "[LOG 20220715-08:24:49] epoch: 62 train-loss: 0.6463809717438622\n",
            "[LOG 20220715-08:24:54] epoch: 63 train-loss: 0.6427226005586734\n",
            "[LOG 20220715-08:25:00] epoch: 64 train-loss: 0.6392805233820161\n",
            "[LOG 20220715-08:25:06] epoch: 65 train-loss: 0.6361612814830057\n",
            "[LOG 20220715-08:25:11] epoch: 66 train-loss: 0.6329928749024487\n",
            "[LOG 20220715-08:25:17] epoch: 67 train-loss: 0.6294183318675962\n",
            "[LOG 20220715-08:25:24] epoch: 68 train-loss: 0.62661471200396\n",
            "[LOG 20220715-08:25:29] epoch: 69 train-loss: 0.6245489397536971\n",
            "[LOG 20220715-08:25:35] epoch: 70 train-loss: 0.6214836479377136\n",
            "[LOG 20220715-08:25:41] epoch: 71 train-loss: 0.6166253067664246\n",
            "[LOG 20220715-08:25:46] epoch: 72 train-loss: 0.6139250859014516\n",
            "[LOG 20220715-08:25:52] epoch: 73 train-loss: 0.6113509117031911\n",
            "[LOG 20220715-08:25:58] epoch: 74 train-loss: 0.607304653315656\n"
          ]
        }
      ]
    },
    {
      "cell_type": "code",
      "source": [
        "# prepare plot\n",
        "fig = plt.figure()\n",
        "ax = fig.add_subplot(111)\n",
        "\n",
        "# add grid\n",
        "ax.grid(linestyle='dotted')\n",
        "\n",
        "# plot the training epochs vs. the epochs' classification error\n",
        "ax.plot(np.array(range(1, len(train_epoch_losses)+1)), train_epoch_losses, label='epoch loss (blue)')\n",
        "\n",
        "# add axis legends\n",
        "ax.set_xlabel(\"[training epoch $e_i$]\", fontsize=10)\n",
        "ax.set_ylabel(\"[Classification Error $\\mathcal{L}^{NLL}$]\", fontsize=10)\n",
        "\n",
        "# set plot legend\n",
        "plt.legend(loc=\"upper right\", numpoints=1, fancybox=True)\n",
        "\n",
        "# add plot title\n",
        "plt.title('Training Epochs $e_i$ vs. Classification Error $L^{NLL}$', fontsize=10);"
      ],
      "metadata": {
        "colab": {
          "base_uri": "https://localhost:8080/",
          "height": 301
        },
        "id": "jC83-d0ubTok",
        "outputId": "6c9095e4-a8d2-4d32-e40b-e60fa7c03675"
      },
      "execution_count": 15,
      "outputs": [
        {
          "output_type": "display_data",
          "data": {
            "text/plain": [
              "<Figure size 432x288 with 1 Axes>"
            ],
            "image/png": "[encoded data removed]"
          },
          "metadata": {
            "needs_background": "light"
          }
        }
      ]
    },
    {
      "cell_type": "code",
      "source": [
        "#### Step 4. run model evaluation ####################################################################################\n",
        "\n",
        "# restore pre-trained model snapshot ( I used the snapshot at 50 epochs )\n",
        "best_model_name = 'https://github.com/Benemrxr/GSERM2022-Lab-Deep-Learning/blob/main/exam_personal/exam_model_epoch_49.pth?raw=true'\n",
        "\n",
        "# read stored model from the remote location\n",
        "model_bytes = urllib.request.urlopen(best_model_name)\n",
        "\n",
        "# load model tensor from io.BytesIO object\n",
        "model_buffer = io.BytesIO(model_bytes.read())\n",
        "\n",
        "# init pre-trained model class\n",
        "best_model = ExamNet()\n",
        "\n",
        "# load pre-trained models\n",
        "best_model.load_state_dict(torch.load(model_buffer, map_location=torch.device('cpu')))\n",
        "\n",
        "# set model in evaluation mode\n",
        "best_model.eval()"
      ],
      "metadata": {
        "colab": {
          "base_uri": "https://localhost:8080/"
        },
        "id": "CLQmfgPngGj_",
        "outputId": "ef72a713-c732-4024-8826-e7d028719184"
      },
      "execution_count": 16,
      "outputs": [
        {
          "output_type": "execute_result",
          "data": {
            "text/plain": [
              "ExamNet(\n",
              "  (conv1): Conv2d(1, 6, kernel_size=(5, 5), stride=(1, 1))\n",
              "  (pool1): MaxPool2d(kernel_size=2, stride=2, padding=0, dilation=1, ceil_mode=False)\n",
              "  (conv2): Conv2d(6, 12, kernel_size=(5, 5), stride=(1, 1))\n",
              "  (pool2): MaxPool2d(kernel_size=2, stride=2, padding=0, dilation=1, ceil_mode=False)\n",
              "  (linear1): Linear(in_features=192, out_features=120, bias=True)\n",
              "  (relu1): ReLU(inplace=True)\n",
              "  (linear2): Linear(in_features=120, out_features=84, bias=True)\n",
              "  (relu2): ReLU(inplace=True)\n",
              "  (linear3): Linear(in_features=84, out_features=10, bias=True)\n",
              "  (logsoftmax): LogSoftmax(dim=1)\n",
              ")"
            ]
          },
          "metadata": {},
          "execution_count": 16
        }
      ]
    },
    {
      "cell_type": "code",
      "source": [
        "# PyTorch data loader that feeds the (evaluation) image tensors to our neural network:\n",
        "fashionmnist_eval_dataloader = torch.utils.data.DataLoader(fashion_mnist_eval_data, batch_size=10000, shuffle=False)\n",
        "\n",
        "# init collection of mini-batch losses\n",
        "eval_mini_batch_losses = []\n",
        "\n",
        "# iterate over all-mini batches\n",
        "for i, (images, labels) in enumerate(fashionmnist_eval_dataloader):\n",
        "\n",
        "    # run forward pass through the network\n",
        "    output = best_model(images)\n",
        "\n",
        "    # determine classification loss\n",
        "    loss = nll_loss(output, labels)\n",
        "\n",
        "    # collect mini-batch reconstruction loss\n",
        "    eval_mini_batch_losses.append(loss.data.item())\n",
        "\n",
        "# determine mean min-batch loss of epoch\n",
        "eval_loss = np.mean(eval_mini_batch_losses)\n",
        "\n",
        "# print epoch loss\n",
        "now = datetime.utcnow().strftime(\"%Y%m%d-%H:%M:%S\")\n",
        "print('[LOG {}] eval-loss: {}'.format(str(now), str(eval_loss)))\n",
        "# [LOG 20220714-12:43:04] eval-loss: 0.7184029221534729\n",
        "# Ok, great. The evaluation loss looks in-line with our training loss.\n",
        "\n",
        "\n",
        "# Let's now obtain the predictions for all the Fashion-MNIST images of the evaluation data:\n",
        "predictions = torch.argmax(best_model(iter(fashionmnist_eval_dataloader).next()[0]), dim=1)\n",
        "\n",
        "# Furthermore, let's obtain the overall classification accuracy:\n",
        "metrics.accuracy_score(fashion_mnist_eval_data.targets, predictions.detach())\n",
        "# 0.7233\n",
        "\n",
        "# Let's also inspect the confusion matrix of the model predictions to determine major sources of misclassification:\n",
        "# determine classification matrix of the predicted and target classes\n",
        "mat = confusion_matrix(fashion_mnist_eval_data.targets, predictions.detach())\n",
        "\n",
        "# initialize the plot and define size\n",
        "plt.figure(figsize=(8, 8))\n",
        "\n",
        "# plot corresponding confusion matrix\n",
        "sns.heatmap(mat.T, square=True, annot=True, fmt='d', cbar=False, cmap='YlOrRd_r', xticklabels=fashion_classes, yticklabels=fashion_classes)\n",
        "plt.tick_params(axis='both', which='major', labelsize=8, labelbottom = False, bottom=False, top = False, left = False, labeltop=True)\n",
        "\n",
        "# set plot title\n",
        "plt.title('ExamNet Fashion-MNIST classification matrix')\n",
        "\n",
        "# set plot axis lables\n",
        "plt.xlabel('[true label]')\n",
        "plt.ylabel('[predicted label]');\n",
        "\n",
        "# We can see that our current model confuses the classes 2 and 4, as well as 2 and 6, very often. These are pullovers and coats, and shirts, respectively."
      ],
      "metadata": {
        "colab": {
          "base_uri": "https://localhost:8080/",
          "height": 530
        },
        "id": "BBZO_cklfbOC",
        "outputId": "0bd17cf5-544f-482c-c052-909b119720e2"
      },
      "execution_count": 17,
      "outputs": [
        {
          "output_type": "stream",
          "name": "stdout",
          "text": [
            "[LOG 20220715-08:27:24] eval-loss: 0.7184029221534729\n"
          ]
        },
        {
          "output_type": "display_data",
          "data": {
            "text/plain": [
              "<Figure size 576x576 with 1 Axes>"
            ],
            "image/png": "[encoded data removed]"
          },
          "metadata": {
            "needs_background": "light"
          }
        }
      ]
    },
    {
      "cell_type": "code",
      "source": [
        "metrics.accuracy_score(fashion_mnist_eval_data.targets, predictions.detach())"
      ],
      "metadata": {
        "colab": {
          "base_uri": "https://localhost:8080/"
        },
        "id": "9Q-u0X0WnROI",
        "outputId": "47faf52d-66ef-41fe-951d-d61d23e40280"
      },
      "execution_count": 18,
      "outputs": [
        {
          "output_type": "execute_result",
          "data": {
            "text/plain": [
              "0.7233"
            ]
          },
          "metadata": {},
          "execution_count": 18
        }
      ]
    },
    {
      "cell_type": "markdown",
      "metadata": {
        "id": "UNBnGfwU9_sa"
      },
      "source": [
        "**2. Implement and train your \"improved\" CNN.**\n",
        "(\"improved\" simply refers to a better classification accuracy than your baseline model)"
      ]
    },
    {
      "cell_type": "code",
      "source": [
        "# init deterministic seed\n",
        "seed_value = 1234\n",
        "np.random.seed(seed_value) # set numpy seed\n",
        "torch.manual_seed(seed_value) # set pytorch seed CPU"
      ],
      "metadata": {
        "id": "yMU2cGtWnjTf",
        "colab": {
          "base_uri": "https://localhost:8080/"
        },
        "outputId": "f1d1a0a3-4809-4834-f0d7-d349c8f7c409"
      },
      "execution_count": 19,
      "outputs": [
        {
          "output_type": "execute_result",
          "data": {
            "text/plain": [
              "<torch._C.Generator at 0x7f4e09530a30>"
            ]
          },
          "metadata": {},
          "execution_count": 19
        }
      ]
    },
    {
      "cell_type": "code",
      "execution_count": 20,
      "metadata": {
        "id": "h-zirkqH9_sa",
        "colab": {
          "base_uri": "https://localhost:8080/"
        },
        "outputId": "4a0cca80-a80f-44f6-9371-f6e36cbe0da2"
      },
      "outputs": [
        {
          "output_type": "stream",
          "name": "stdout",
          "text": [
            "Fri Jul 15 08:29:36 2022       \n",
            "+-----------------------------------------------------------------------------+\n",
            "| NVIDIA-SMI 460.32.03    Driver Version: 460.32.03    CUDA Version: 11.2     |\n",
            "|-------------------------------+----------------------+----------------------+\n",
            "| GPU  Name        Persistence-M| Bus-Id        Disp.A | Volatile Uncorr. ECC |\n",
            "| Fan  Temp  Perf  Pwr:Usage/Cap|         Memory-Usage | GPU-Util  Compute M. |\n",
            "|                               |                      |               MIG M. |\n",
            "|===============================+======================+======================|\n",
            "|   0  Tesla T4            Off  | 00000000:00:04.0 Off |                    0 |\n",
            "| N/A   61C    P0    29W /  70W |   1158MiB / 15109MiB |      0%      Default |\n",
            "|                               |                      |                  N/A |\n",
            "+-------------------------------+----------------------+----------------------+\n",
            "                                                                               \n",
            "+-----------------------------------------------------------------------------+\n",
            "| Processes:                                                                  |\n",
            "|  GPU   GI   CI        PID   Type   Process name                  GPU Memory |\n",
            "|        ID   ID                                                   Usage      |\n",
            "|=============================================================================|\n",
            "+-----------------------------------------------------------------------------+\n",
            "[LOG] ExamPassedNet architecture:\n",
            "\n",
            "ExamPassedNet(\n",
            "  (conv1): Conv2d(1, 28, kernel_size=(5, 5), stride=(1, 1))\n",
            "  (conv2): Conv2d(28, 28, kernel_size=(5, 5), stride=(1, 1))\n",
            "  (pool1): MaxPool2d(kernel_size=2, stride=2, padding=0, dilation=1, ceil_mode=False)\n",
            "  (conv3): Conv2d(28, 28, kernel_size=(5, 5), stride=(1, 1))\n",
            "  (pool2): MaxPool2d(kernel_size=2, stride=2, padding=0, dilation=1, ceil_mode=False)\n",
            "  (linear1): Linear(in_features=252, out_features=120, bias=True)\n",
            "  (relu1): ReLU(inplace=True)\n",
            "  (linear2): Linear(in_features=120, out_features=84, bias=True)\n",
            "  (relu2): ReLU(inplace=True)\n",
            "  (linear3): Linear(in_features=84, out_features=10, bias=True)\n",
            "  (logsoftmax): LogSoftmax(dim=1)\n",
            ")\n",
            "\n",
            "[LOG] Number of to be trained ExamPassedNet model parameters: 81358.\n"
          ]
        }
      ],
      "source": [
        "# To solve this task you might want to have a look at the code of exercise 5. \n",
        "# Some ideas might be the addition of layers, addition neurons or convolutions, longer training, smaller learning rate etc. \n",
        "\n",
        "#### Step 1. define and init neural network architecture #############################################################\n",
        "\n",
        "class ExamPassedNet(nn.Module):\n",
        "    \n",
        "    # define the class constructor\n",
        "    def __init__(self):\n",
        "        \n",
        "        # call super class constructor\n",
        "        super(ExamPassedNet, self).__init__()\n",
        "        \n",
        "        # specify convolution layer 1.1\n",
        "        self.conv1 = nn.Conv2d(in_channels=1, out_channels=28, kernel_size=5, stride=1, padding=0)\n",
        "\n",
        "        # specify convolution layer 1.2\n",
        "        self.conv2 = nn.Conv2d(in_channels=28, out_channels=28, kernel_size=5, stride=1, padding=0)\n",
        "        \n",
        "        # define max-pooling layer 1\n",
        "        self.pool1 = nn.MaxPool2d(kernel_size=2, stride=2)\n",
        "        \n",
        "        # specify convolution layer 2\n",
        "        self.conv3 = nn.Conv2d(in_channels=28, out_channels=28, kernel_size=5, stride=1, padding=0)\n",
        "\n",
        "        # define max-pooling layer 2\n",
        "        self.pool2 = nn.MaxPool2d(kernel_size=2, stride=2)\n",
        "        \n",
        "        # specify fc layer 1 - in 28 * 3 * 3, out 120\n",
        "        self.linear1 = nn.Linear(28 * 3 * 3, 120, bias=True) # the linearity W*x+b\n",
        "        self.relu1 = nn.ReLU(inplace=True) # the non-linearity\n",
        "        \n",
        "        # specify fc layer 2 - in 120, out 84\n",
        "        self.linear2 = nn.Linear(120, 84, bias=True) # the linearity W*x+b\n",
        "        self.relu2 = nn.ReLU(inplace=True) # the non-linarity\n",
        "        \n",
        "        # specify fc layer 3 - in 84, out 10\n",
        "        self.linear3 = nn.Linear(84, 10) # the linearity W*x+b\n",
        "        \n",
        "        # add a softmax to the last layer\n",
        "        self.logsoftmax = nn.LogSoftmax(dim=1) # the softmax\n",
        "        \n",
        "    # define network forward pass\n",
        "    def forward(self, images):\n",
        "        \n",
        "        # high-level feature learning via convolutional layers\n",
        "        \n",
        "        # define conv layer 1 & 2 forward pass\n",
        "        x = self.pool1(self.relu1(self.conv2(self.relu1(self.conv1(images)))))\n",
        "        \n",
        "        # define conv layer 3 forward pass\n",
        "        x = self.pool2(self.relu2(self.conv3(x)))\n",
        "        \n",
        "        # feature flattening\n",
        "        \n",
        "        # reshape image pixels\n",
        "        x = x.view(-1, 28 * 3 * 3)\n",
        "        \n",
        "        # combination of feature learning via non-linear layers\n",
        "        \n",
        "        # define fc layer 1 forward pass\n",
        "        x = self.relu1(self.linear1(x))\n",
        "        \n",
        "        # define fc layer 2 forward pass\n",
        "        x = self.relu2(self.linear2(x))\n",
        "        \n",
        "        # define layer 3 forward pass\n",
        "        x = self.logsoftmax(self.linear3(x))\n",
        "        \n",
        "        # return forward pass result\n",
        "        return x\n",
        "\n",
        "improved_model = ExamPassedNet()\n",
        "improved_model = improved_model.to(device)\n",
        "\n",
        "!nvidia-smi\n",
        "# print the initialized architectures\n",
        "print('[LOG] ExamPassedNet architecture:\\n\\n{}\\n'.format(improved_model))\n",
        "\n",
        "# init the number of model parameters\n",
        "num_params = 0\n",
        "# iterate over the distinct parameters\n",
        "for param in improved_model.parameters():\n",
        "    # collect number of parameters\n",
        "    num_params += param.numel()   \n",
        "# print the number of model paramters\n",
        "print('[LOG] Number of to be trained ExamPassedNet model parameters: {}.'.format(num_params))\n"
      ]
    },
    {
      "cell_type": "code",
      "source": [
        "#### Step 2. define loss, training hyperparameters and dataloader ####################################################\n",
        "\n",
        "# define the optimization criterion / loss function (Negative Log-Likelihood)\n",
        "nll_loss = nn.NLLLoss()\n",
        "\n",
        "# push to gpu\n",
        "nll_loss = nll_loss.to(device)\n",
        "\n",
        "# define learning rate (0.001) and optimization strategy (Stochastic Gradient Descent)\n",
        "learning_rate = 0.001\n",
        "optimizer = optim.SGD(params=improved_model.parameters(), lr=learning_rate)\n",
        "\n",
        "# specify the training parameters\n",
        "num_epochs = 75 # number of training epochs\n",
        "mini_batch_size = 128 # size of the mini-batches\n",
        "\n",
        "# PyTorch data loader that feeds the image tensors to our neural network:\n",
        "fashion_mnist_train_dataloader = torch.utils.data.DataLoader(fashion_mnist_train_data, batch_size=mini_batch_size, shuffle=True)"
      ],
      "metadata": {
        "id": "fPdANF24_M3-"
      },
      "execution_count": 21,
      "outputs": []
    },
    {
      "cell_type": "code",
      "source": [
        "#### Step 3. run model training ######################################################################################\n",
        "\n",
        "# init collection of training epoch losses\n",
        "train_epoch_losses = []\n",
        "\n",
        "# set the model in training mode\n",
        "improved_model.train()\n",
        "\n",
        "# train the ExamNet model\n",
        "for epoch in range(num_epochs):\n",
        "    \n",
        "    # init collection of mini-batch losses\n",
        "    train_mini_batch_losses = []\n",
        "    \n",
        "    # iterate over all-mini batches\n",
        "    for i, (images, labels) in enumerate(fashion_mnist_train_dataloader):\n",
        "        \n",
        "        # push mini-batch data to computation device\n",
        "        images = images.to(device)\n",
        "        labels = labels.to(device)\n",
        "\n",
        "        # run forward pass through the network\n",
        "        output = improved_model(images)\n",
        "        \n",
        "        # reset graph gradients\n",
        "        improved_model.zero_grad()\n",
        "        \n",
        "        # determine classification loss\n",
        "        loss = nll_loss(output, labels)\n",
        "        \n",
        "        # run backward pass\n",
        "        loss.backward()\n",
        "        \n",
        "        # update network paramaters\n",
        "        optimizer.step()\n",
        "        \n",
        "        # collect mini-batch reconstruction loss\n",
        "        train_mini_batch_losses.append(loss.data.item())\n",
        "\n",
        "        # wandb\n",
        "        # wandb.log({\"loss\": loss})\n",
        "\n",
        "        # Optional\n",
        "        # wandb.watch(model)\n",
        "\n",
        "    # determine mean min-batch loss of epoch\n",
        "    train_epoch_loss = np.mean(train_mini_batch_losses)\n",
        "    \n",
        "    # print epoch loss\n",
        "    now = datetime.utcnow().strftime(\"%Y%m%d-%H:%M:%S\")\n",
        "    print('[LOG {}] epoch: {} train-loss: {}'.format(str(now), str(epoch), str(train_epoch_loss)))\n",
        "    \n",
        "    # set filename of actual model\n",
        "    improved_model_name = 'improved_exam_model_epoch_{}.pth'.format(str(epoch))\n",
        "\n",
        "    # save current model to GDrive models directory\n",
        "    torch.save(improved_model.state_dict(), os.path.join(models_directory, improved_model_name))\n",
        "    \n",
        "    # determine mean min-batch loss of epoch\n",
        "    train_epoch_losses.append(train_epoch_loss)\n",
        "\n",
        "# [LOG 20220714-11:38:25] epoch: 0 train-loss: 2.30455591887045\n",
        "# [LOG 20220714-11:44:00] epoch: 49 train-loss: 0.5967146298651502\n",
        "# [LOG 20220714-11:46:50] epoch: 74 train-loss: 0.5231550009901336"
      ],
      "metadata": {
        "colab": {
          "base_uri": "https://localhost:8080/"
        },
        "id": "sTzEDrkz_bmv",
        "outputId": "d4a1bb10-7787-456b-c5cb-64715a6a6c57"
      },
      "execution_count": 22,
      "outputs": [
        {
          "output_type": "stream",
          "name": "stdout",
          "text": [
            "[LOG 20220715-08:29:54] epoch: 0 train-loss: 2.3045559203955155\n",
            "[LOG 20220715-08:30:01] epoch: 1 train-loss: 2.3032369705151394\n",
            "[LOG 20220715-08:30:10] epoch: 2 train-loss: 2.302275233685589\n",
            "[LOG 20220715-08:30:18] epoch: 3 train-loss: 2.301388675978443\n",
            "[LOG 20220715-08:30:25] epoch: 4 train-loss: 2.3004027287334776\n",
            "[LOG 20220715-08:30:34] epoch: 5 train-loss: 2.2992600876131037\n",
            "[LOG 20220715-08:30:42] epoch: 6 train-loss: 2.297922859822255\n",
            "[LOG 20220715-08:30:49] epoch: 7 train-loss: 2.2964027095705206\n",
            "[LOG 20220715-08:30:56] epoch: 8 train-loss: 2.2946199491334114\n",
            "[LOG 20220715-08:31:03] epoch: 9 train-loss: 2.2923750973967856\n",
            "[LOG 20220715-08:31:11] epoch: 10 train-loss: 2.289417804177128\n",
            "[LOG 20220715-08:31:18] epoch: 11 train-loss: 2.2849922246261953\n",
            "[LOG 20220715-08:31:25] epoch: 12 train-loss: 2.278278585690171\n",
            "[LOG 20220715-08:31:32] epoch: 13 train-loss: 2.2670888524574004\n",
            "[LOG 20220715-08:31:39] epoch: 14 train-loss: 2.245547489316733\n",
            "[LOG 20220715-08:31:47] epoch: 15 train-loss: 2.1916667062844803\n",
            "[LOG 20220715-08:31:54] epoch: 16 train-loss: 1.9975591999635514\n",
            "[LOG 20220715-08:32:02] epoch: 17 train-loss: 1.50938029965358\n",
            "[LOG 20220715-08:32:09] epoch: 18 train-loss: 1.1470899037969138\n",
            "[LOG 20220715-08:32:16] epoch: 19 train-loss: 1.003264665984904\n",
            "[LOG 20220715-08:32:23] epoch: 20 train-loss: 0.9359898204996642\n",
            "[LOG 20220715-08:32:30] epoch: 21 train-loss: 0.8889614458023104\n",
            "[LOG 20220715-08:32:37] epoch: 22 train-loss: 0.8498729954142052\n",
            "[LOG 20220715-08:32:44] epoch: 23 train-loss: 0.817171235455633\n",
            "[LOG 20220715-08:32:51] epoch: 24 train-loss: 0.788350155231541\n",
            "[LOG 20220715-08:32:58] epoch: 25 train-loss: 0.7667270912798737\n",
            "[LOG 20220715-08:33:05] epoch: 26 train-loss: 0.7468447488254067\n",
            "[LOG 20220715-08:33:13] epoch: 27 train-loss: 0.7334734493735503\n",
            "[LOG 20220715-08:33:20] epoch: 28 train-loss: 0.7195387051812113\n",
            "[LOG 20220715-08:33:27] epoch: 29 train-loss: 0.709927345326206\n",
            "[LOG 20220715-08:33:35] epoch: 30 train-loss: 0.6980629593832914\n",
            "[LOG 20220715-08:33:42] epoch: 31 train-loss: 0.6902310078077988\n",
            "[LOG 20220715-08:33:49] epoch: 32 train-loss: 0.6833925762537446\n",
            "[LOG 20220715-08:33:57] epoch: 33 train-loss: 0.675600193266167\n",
            "[LOG 20220715-08:34:04] epoch: 34 train-loss: 0.6688945070385679\n",
            "[LOG 20220715-08:34:11] epoch: 35 train-loss: 0.6632148835704779\n",
            "[LOG 20220715-08:34:18] epoch: 36 train-loss: 0.6574509284897908\n",
            "[LOG 20220715-08:34:25] epoch: 37 train-loss: 0.6511908949438189\n",
            "[LOG 20220715-08:34:32] epoch: 38 train-loss: 0.6456204564459542\n",
            "[LOG 20220715-08:34:39] epoch: 39 train-loss: 0.6397716568222941\n",
            "[LOG 20220715-08:34:47] epoch: 40 train-loss: 0.6355549451638894\n",
            "[LOG 20220715-08:34:54] epoch: 41 train-loss: 0.6308404485554074\n",
            "[LOG 20220715-08:35:01] epoch: 42 train-loss: 0.6261834310951517\n",
            "[LOG 20220715-08:35:08] epoch: 43 train-loss: 0.6204138302853875\n",
            "[LOG 20220715-08:35:15] epoch: 44 train-loss: 0.6165981543724979\n",
            "[LOG 20220715-08:35:22] epoch: 45 train-loss: 0.6122409431919106\n",
            "[LOG 20220715-08:35:29] epoch: 46 train-loss: 0.6088243686059899\n",
            "[LOG 20220715-08:35:36] epoch: 47 train-loss: 0.6049973254264799\n",
            "[LOG 20220715-08:35:43] epoch: 48 train-loss: 0.601031279322435\n",
            "[LOG 20220715-08:35:51] epoch: 49 train-loss: 0.5965053735892656\n",
            "[LOG 20220715-08:35:58] epoch: 50 train-loss: 0.5929360370010709\n",
            "[LOG 20220715-08:36:06] epoch: 51 train-loss: 0.5895773945713857\n",
            "[LOG 20220715-08:36:13] epoch: 52 train-loss: 0.5854272062082027\n",
            "[LOG 20220715-08:36:20] epoch: 53 train-loss: 0.5820607921080803\n",
            "[LOG 20220715-08:36:27] epoch: 54 train-loss: 0.580344387463161\n",
            "[LOG 20220715-08:36:34] epoch: 55 train-loss: 0.5753755872564783\n",
            "[LOG 20220715-08:36:41] epoch: 56 train-loss: 0.5712342252736407\n",
            "[LOG 20220715-08:36:48] epoch: 57 train-loss: 0.5707577772613274\n",
            "[LOG 20220715-08:36:55] epoch: 58 train-loss: 0.5679099826034961\n",
            "[LOG 20220715-08:37:02] epoch: 59 train-loss: 0.5631561882333207\n",
            "[LOG 20220715-08:37:09] epoch: 60 train-loss: 0.5605335804953504\n",
            "[LOG 20220715-08:37:17] epoch: 61 train-loss: 0.5574862711719358\n",
            "[LOG 20220715-08:37:24] epoch: 62 train-loss: 0.5553163432998698\n",
            "[LOG 20220715-08:37:31] epoch: 63 train-loss: 0.5530048198918543\n",
            "[LOG 20220715-08:37:38] epoch: 64 train-loss: 0.5504716296058728\n",
            "[LOG 20220715-08:37:45] epoch: 65 train-loss: 0.5474510840388503\n",
            "[LOG 20220715-08:37:52] epoch: 66 train-loss: 0.5434132705110986\n",
            "[LOG 20220715-08:37:59] epoch: 67 train-loss: 0.5419087334355311\n",
            "[LOG 20220715-08:38:06] epoch: 68 train-loss: 0.5400361175984462\n",
            "[LOG 20220715-08:38:14] epoch: 69 train-loss: 0.5361256866312739\n",
            "[LOG 20220715-08:38:22] epoch: 70 train-loss: 0.5337274352878904\n",
            "[LOG 20220715-08:38:29] epoch: 71 train-loss: 0.5318541311378926\n",
            "[LOG 20220715-08:38:36] epoch: 72 train-loss: 0.5304149567826725\n",
            "[LOG 20220715-08:38:43] epoch: 73 train-loss: 0.5277535365715719\n",
            "[LOG 20220715-08:38:50] epoch: 74 train-loss: 0.5233061244365758\n"
          ]
        }
      ]
    },
    {
      "cell_type": "code",
      "source": [
        "# prepare plot\n",
        "fig = plt.figure()\n",
        "ax = fig.add_subplot(111)\n",
        "\n",
        "# add grid\n",
        "ax.grid(linestyle='dotted')\n",
        "\n",
        "# plot the training epochs vs. the epochs' classification error\n",
        "ax.plot(np.array(range(1, len(train_epoch_losses)+1)), train_epoch_losses, label='epoch loss (blue)')\n",
        "\n",
        "# add axis legends\n",
        "ax.set_xlabel(\"[training epoch $e_i$]\", fontsize=10)\n",
        "ax.set_ylabel(\"[Classification Error $\\mathcal{L}^{NLL}$]\", fontsize=10)\n",
        "\n",
        "# set plot legend\n",
        "plt.legend(loc=\"upper right\", numpoints=1, fancybox=True)\n",
        "\n",
        "# add plot title\n",
        "plt.title('Training Epochs $e_i$ vs. Classification Error $L^{NLL}$', fontsize=10);"
      ],
      "metadata": {
        "colab": {
          "base_uri": "https://localhost:8080/",
          "height": 301
        },
        "id": "Uaj_uk8wAS7B",
        "outputId": "71fa0994-45ef-416b-c25b-b7f4df2cf51a"
      },
      "execution_count": 23,
      "outputs": [
        {
          "output_type": "display_data",
          "data": {
            "text/plain": [
              "<Figure size 432x288 with 1 Axes>"
            ],
            "image/png": "[encoded data removed]"
          },
          "metadata": {
            "needs_background": "light"
          }
        }
      ]
    },
    {
      "cell_type": "code",
      "source": [
        "#### Step 4. run model evaluation ####################################################################################\n",
        "\n",
        "# restore pre-trained model snapshot ( I used the 75 epochs snapshot here )\n",
        "best_model_name = 'https://github.com/Benemrxr/GSERM2022-Lab-Deep-Learning/blob/main/exam_personal/improved_exam_model_epoch_74.pth?raw=true'\n",
        "\n",
        "# read stored model from the remote location\n",
        "model_bytes = urllib.request.urlopen(best_model_name)\n",
        "\n",
        "# load model tensor from io.BytesIO object\n",
        "model_buffer = io.BytesIO(model_bytes.read())\n",
        "\n",
        "# init pre-trained model class\n",
        "best_model = ExamPassedNet()\n",
        "\n",
        "# load pre-trained models\n",
        "best_model.load_state_dict(torch.load(model_buffer, map_location=torch.device('cpu')))\n",
        "\n",
        "# set model in evaluation mode\n",
        "best_model.eval()"
      ],
      "metadata": {
        "colab": {
          "base_uri": "https://localhost:8080/"
        },
        "id": "-PSvy4qgAcbl",
        "outputId": "4246dc30-2512-4154-f481-d60d8d721b3c"
      },
      "execution_count": 24,
      "outputs": [
        {
          "output_type": "execute_result",
          "data": {
            "text/plain": [
              "ExamPassedNet(\n",
              "  (conv1): Conv2d(1, 28, kernel_size=(5, 5), stride=(1, 1))\n",
              "  (conv2): Conv2d(28, 28, kernel_size=(5, 5), stride=(1, 1))\n",
              "  (pool1): MaxPool2d(kernel_size=2, stride=2, padding=0, dilation=1, ceil_mode=False)\n",
              "  (conv3): Conv2d(28, 28, kernel_size=(5, 5), stride=(1, 1))\n",
              "  (pool2): MaxPool2d(kernel_size=2, stride=2, padding=0, dilation=1, ceil_mode=False)\n",
              "  (linear1): Linear(in_features=252, out_features=120, bias=True)\n",
              "  (relu1): ReLU(inplace=True)\n",
              "  (linear2): Linear(in_features=120, out_features=84, bias=True)\n",
              "  (relu2): ReLU(inplace=True)\n",
              "  (linear3): Linear(in_features=84, out_features=10, bias=True)\n",
              "  (logsoftmax): LogSoftmax(dim=1)\n",
              ")"
            ]
          },
          "metadata": {},
          "execution_count": 24
        }
      ]
    },
    {
      "cell_type": "code",
      "source": [
        "# PyTorch data loader that feeds the (evaluation) image tensors to our neural network:\n",
        "fashionmnist_eval_dataloader = torch.utils.data.DataLoader(fashion_mnist_eval_data, batch_size=10000, shuffle=False)\n",
        "\n",
        "# init collection of mini-batch losses\n",
        "eval_mini_batch_losses = []\n",
        "\n",
        "# iterate over all-mini batches\n",
        "for i, (images, labels) in enumerate(fashionmnist_eval_dataloader):\n",
        "\n",
        "    # run forward pass through the network\n",
        "    output = best_model(images)\n",
        "\n",
        "    # determine classification loss\n",
        "    loss = nll_loss(output, labels)\n",
        "\n",
        "    # collect mini-batch reconstruction loss\n",
        "    eval_mini_batch_losses.append(loss.data.item())\n",
        "\n",
        "# determine mean min-batch loss of epoch\n",
        "eval_loss = np.mean(eval_mini_batch_losses)\n",
        "\n",
        "# print epoch loss\n",
        "now = datetime.utcnow().strftime(\"%Y%m%d-%H:%M:%S\")\n",
        "print('[LOG {}] eval-loss: {}'.format(str(now), str(eval_loss)))\n",
        "# [LOG 20220714-11:50:32] eval-loss: 0.5599368810653687\n",
        "# Ok, great. The evaluation loss looks in-line with our training loss.\n",
        "# And: Better evaluation loss than with the first model, the ExamNet.\n",
        "\n",
        "# Let's now obtain the predictions for all the Fashion-MNIST images of the evaluation data:\n",
        "predictions = torch.argmax(best_model(iter(fashionmnist_eval_dataloader).next()[0]), dim=1)\n",
        "\n",
        "# Furthermore, let's obtain the overall classification accuracy:\n",
        "metrics.accuracy_score(fashion_mnist_eval_data.targets, predictions.detach())\n",
        "\n",
        "# Let's also inspect the confusion matrix of the model predictions to determine major sources of misclassification:\n",
        "# determine classification matrix of the predicted and target classes\n",
        "mat = confusion_matrix(fashion_mnist_eval_data.targets, predictions.detach())\n",
        "\n",
        "# initialize the plot and define size\n",
        "plt.figure(figsize=(8, 8))\n",
        "\n",
        "# plot corresponding confusion matrix\n",
        "sns.heatmap(mat.T, square=True, annot=True, fmt='d', cbar=False, cmap='YlOrRd_r', xticklabels=fashion_classes, yticklabels=fashion_classes)\n",
        "plt.tick_params(axis='both', which='major', labelsize=8, labelbottom = False, bottom=False, top = False, left = False, labeltop=True)\n",
        "\n",
        "# set plot title\n",
        "plt.title('ExamPassedNet Fashion-MNIST classification matrix')\n",
        "\n",
        "# set plot axis lables\n",
        "plt.xlabel('[true label]')\n",
        "plt.ylabel('[predicted label]');"
      ],
      "metadata": {
        "colab": {
          "base_uri": "https://localhost:8080/",
          "height": 530
        },
        "id": "0lvwzmkQA4O8",
        "outputId": "cd3ab130-ef30-4b0a-de74-de210db36624"
      },
      "execution_count": 25,
      "outputs": [
        {
          "output_type": "stream",
          "name": "stdout",
          "text": [
            "[LOG 20220715-08:40:23] eval-loss: 0.5599368810653687\n"
          ]
        },
        {
          "output_type": "display_data",
          "data": {
            "text/plain": [
              "<Figure size 576x576 with 1 Axes>"
            ],
            "image/png": "[encoded data removed]"
          },
          "metadata": {
            "needs_background": "light"
          }
        }
      ]
    },
    {
      "cell_type": "code",
      "source": [
        "metrics.accuracy_score(fashion_mnist_eval_data.targets, predictions.detach())"
      ],
      "metadata": {
        "colab": {
          "base_uri": "https://localhost:8080/"
        },
        "id": "XJRp_TXe2ANb",
        "outputId": "4acec845-432b-481a-a109-051aad6b410b"
      },
      "execution_count": 26,
      "outputs": [
        {
          "output_type": "execute_result",
          "data": {
            "text/plain": [
              "0.7963"
            ]
          },
          "metadata": {},
          "execution_count": 26
        }
      ]
    }
  ],
  "metadata": {
    "colab": {
      "collapsed_sections": [],
      "name": "Kopie von exam_exercise.ipynb",
      "provenance": [],
      "toc_visible": true,
      "include_colab_link": true
    },
    "kernelspec": {
      "display_name": "Python 3",
      "language": "python",
      "name": "python3"
    },
    "language_info": {
      "codemirror_mode": {
        "name": "ipython",
        "version": 3
      },
      "file_extension": ".py",
      "mimetype": "text/x-python",
      "name": "python",
      "nbconvert_exporter": "python",
      "pygments_lexer": "ipython3",
      "version": "3.8.5"
    },
    "toc": {
      "base_numbering": 1,
      "nav_menu": {},
      "number_sections": false,
      "sideBar": true,
      "skip_h1_title": false,
      "title_cell": "Table of Contents",
      "title_sidebar": "Contents",
      "toc_cell": false,
      "toc_position": {
        "height": "calc(100% - 180px)",
        "left": "10px",
        "top": "150px",
        "width": "254.39999389648438px"
      },
      "toc_section_display": true,
      "toc_window_display": true
    },
    "accelerator": "GPU",
    "gpuClass": "standard"
  },
  "nbformat": 4,
  "nbformat_minor": 0
}