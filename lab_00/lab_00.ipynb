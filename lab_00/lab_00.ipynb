{
 "cells": [
  {
   "cell_type": "markdown",
   "metadata": {},
   "source": [
    "<img align='center' style='max-width: 800px' src='https://raw.githubusercontent.com/HSG-AIML-Teaching/GSERM2022-Lab/main/banner.png'>"
   ]
  },
  {
   "cell_type": "markdown",
   "metadata": {},
   "source": [
    "Dear GSERM Course Participants,\n",
    "\n",
    "Throughout the practical afternoon sessions, we will utilize Jupyter Notebooks in our coding labs. \n",
    "\n",
    "This Notebook aims to test whether you can run Notebooks properly in either **Google Colab** or the **Binder Cloud**. This will (hopefully) only take one minute of your time :)\n",
    "\n",
    "Please run the `Code Cell` below by clicking into the cell and hitting the `Play` button. The button will appear next to the cell or on top of the screen (depending on which environment you are using). Alternatively, you can also hit `shift` + `enter` after clicking into the cell.\n",
    "\n",
    "This will execute the code cell and print the «highly complicated» mathematical equation result. You are ready to go for our lab sessions if the result is correct (Hint: you should see *44* upon execution of the cell)!"
   ]
  },
  {
   "cell_type": "code",
   "execution_count": null,
   "metadata": {},
   "outputs": [],
   "source": [
    "42 + 2"
   ]
  }
 ],
 "metadata": {
  "kernelspec": {
   "display_name": "Python 3",
   "language": "python",
   "name": "python3"
  },
  "language_info": {
   "codemirror_mode": {
    "name": "ipython",
    "version": 3
   },
   "file_extension": ".py",
   "mimetype": "text/x-python",
   "name": "python",
   "nbconvert_exporter": "python",
   "pygments_lexer": "ipython3",
   "version": "3.8.5"
  },
  "toc": {
   "base_numbering": 1,
   "nav_menu": {},
   "number_sections": false,
   "sideBar": true,
   "skip_h1_title": false,
   "title_cell": "Table of Contents",
   "title_sidebar": "Contents",
   "toc_cell": false,
   "toc_position": {},
   "toc_section_display": true,
   "toc_window_display": false
  }
 },
 "nbformat": 4,
 "nbformat_minor": 4
}
